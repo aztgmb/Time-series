{
  "nbformat": 4,
  "nbformat_minor": 0,
  "metadata": {
    "colab": {
      "name": "special_project_almost_ideal_brjp.ipynb",
      "provenance": [],
      "collapsed_sections": []
    },
    "kernelspec": {
      "name": "python3",
      "display_name": "Python 3"
    },
    "accelerator": "GPU"
  },
  "cells": [
    {
      "cell_type": "code",
      "metadata": {
        "id": "Ogcvv8BAE88K",
        "colab": {
          "base_uri": "https://localhost:8080/"
        },
        "outputId": "7c7f732e-dd6f-4f60-c282-decfa842cf29"
      },
      "source": [
        "import csv\n",
        "import pandas as pd\n",
        "from functools import reduce\n",
        "from google.colab import files\n",
        "from talib import MA_Type\n",
        "from sklearn.preprocessing import MinMaxScaler\n",
        "from sklearn.preprocessing import StandardScaler\n",
        "import numpy as np\n",
        "import math\n",
        "import tensorflow as tf\n",
        "from tensorflow import keras\n",
        "from tensorflow.keras import layers\n",
        "from tensorflow.keras.models import Sequential\n",
        "from tensorflow.keras.utils import Sequence\n",
        "from tensorflow.keras.layers import Dense\n",
        "from tensorflow.keras.layers import Input, LSTM\n",
        "from tensorflow.keras.layers import Dropout\n",
        "from tensorflow.keras.models import Model\n",
        "from datetime import timedelta\n",
        "from sklearn.preprocessing import MinMaxScaler\n",
        "from sklearn.metrics import mean_squared_error\n",
        "from tensorflow.keras.callbacks import EarlyStopping\n",
        "from tensorflow.keras.callbacks import LearningRateScheduler\n",
        "import matplotlib.pyplot as plt\n",
        "import seaborn as sns\n",
        "from sklearn.preprocessing import QuantileTransformer\n",
        "from sklearn.preprocessing import RobustScaler\n",
        "from sklearn.preprocessing import Normalizer\n",
        "from sklearn.preprocessing import MinMaxScaler\n",
        "from statsmodels.tsa.stattools import adfuller\n",
        "from tensorflow.keras.optimizers.schedules import LearningRateSchedule\n",
        "from tensorflow.keras.callbacks import ModelCheckpoint"
      ],
      "execution_count": null,
      "outputs": [
        {
          "output_type": "stream",
          "text": [
            "/usr/local/lib/python3.6/dist-packages/statsmodels/tools/_testing.py:19: FutureWarning: pandas.util.testing is deprecated. Use the functions in the public API at pandas.testing instead.\n",
            "  import pandas.util.testing as tm\n"
          ],
          "name": "stderr"
        }
      ]
    },
    {
      "cell_type": "code",
      "metadata": {
        "id": "xJghyi10VeDm",
        "colab": {
          "base_uri": "https://localhost:8080/"
        },
        "outputId": "9635e3eb-a58b-4760-d071-3434016a5e29"
      },
      "source": [
        "!wget https://launchpad.net/~mario-mariomedina/+archive/ubuntu/talib/+files/libta-lib0_0.4.0-oneiric1_amd64.deb -qO libta.deb\n",
        "!wget https://launchpad.net/~mario-mariomedina/+archive/ubuntu/talib/+files/ta-lib0-dev_0.4.0-oneiric1_amd64.deb -qO ta.deb\n",
        "!dpkg -i libta.deb ta.deb\n",
        "!pip install ta-lib\n",
        "import talib"
      ],
      "execution_count": null,
      "outputs": [
        {
          "output_type": "stream",
          "text": [
            "Selecting previously unselected package libta-lib0.\n",
            "(Reading database ... 144865 files and directories currently installed.)\n",
            "Preparing to unpack libta.deb ...\n",
            "Unpacking libta-lib0 (0.4.0-oneiric1) ...\n",
            "Selecting previously unselected package ta-lib0-dev.\n",
            "Preparing to unpack ta.deb ...\n",
            "Unpacking ta-lib0-dev (0.4.0-oneiric1) ...\n",
            "Setting up libta-lib0 (0.4.0-oneiric1) ...\n",
            "Setting up ta-lib0-dev (0.4.0-oneiric1) ...\n",
            "Processing triggers for man-db (2.8.3-2ubuntu0.1) ...\n",
            "Processing triggers for libc-bin (2.27-3ubuntu1.2) ...\n",
            "/sbin/ldconfig.real: /usr/local/lib/python3.6/dist-packages/ideep4py/lib/libmkldnn.so.0 is not a symbolic link\n",
            "\n",
            "Collecting ta-lib\n",
            "\u001b[?25l  Downloading https://files.pythonhosted.org/packages/ac/cf/681911aa31e04ba171ab4d523a412f4a746e30d3eacb1738799d181e028b/TA-Lib-0.4.19.tar.gz (267kB)\n",
            "\u001b[K     |████████████████████████████████| 276kB 13.2MB/s \n",
            "\u001b[?25hRequirement already satisfied: numpy in /usr/local/lib/python3.6/dist-packages (from ta-lib) (1.19.4)\n",
            "Building wheels for collected packages: ta-lib\n",
            "  Building wheel for ta-lib (setup.py) ... \u001b[?25l\u001b[?25hdone\n",
            "  Created wheel for ta-lib: filename=TA_Lib-0.4.19-cp36-cp36m-linux_x86_64.whl size=1437820 sha256=5f87c3f34b1a08ee8fd244d455355e6ab81c10b3a81d277f12a8e838a4975184\n",
            "  Stored in directory: /root/.cache/pip/wheels/a3/f6/12/3d1ccd06caadd8fa47e016991dd0d27f1163bb260f1854e2ff\n",
            "Successfully built ta-lib\n",
            "Installing collected packages: ta-lib\n",
            "Successfully installed ta-lib-0.4.19\n"
          ],
          "name": "stdout"
        }
      ]
    },
    {
      "cell_type": "markdown",
      "metadata": {
        "id": "nfkARz-Q9UWV"
      },
      "source": [
        "# **START HERE** "
      ]
    },
    {
      "cell_type": "code",
      "metadata": {
        "id": "XYecBgEP803f",
        "colab": {
          "resources": {
            "http://localhost:8080/nbextensions/google.colab/files.js": {
              "data": "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",
              "ok": true,
              "headers": [
                [
                  "content-type",
                  "application/javascript"
                ]
              ],
              "status": 200,
              "status_text": "OK"
            }
          },
          "base_uri": "https://localhost:8080/",
          "height": 73
        },
        "outputId": "1bb637c5-48a4-410a-cdd8-82804b1c1749"
      },
      "source": [
        "uploaded = files.upload()\n",
        "data_brljpy=pd.read_excel('BRLJPYNT.xlsx')"
      ],
      "execution_count": null,
      "outputs": [
        {
          "output_type": "display_data",
          "data": {
            "text/html": [
              "\n",
              "     <input type=\"file\" id=\"files-29c38f5a-7607-4eea-ba22-1d226d8e2aba\" name=\"files[]\" multiple disabled\n",
              "        style=\"border:none\" />\n",
              "     <output id=\"result-29c38f5a-7607-4eea-ba22-1d226d8e2aba\">\n",
              "      Upload widget is only available when the cell has been executed in the\n",
              "      current browser session. Please rerun this cell to enable.\n",
              "      </output>\n",
              "      <script src=\"/nbextensions/google.colab/files.js\"></script> "
            ],
            "text/plain": [
              "<IPython.core.display.HTML object>"
            ]
          },
          "metadata": {
            "tags": []
          }
        },
        {
          "output_type": "stream",
          "text": [
            "Saving BRLJPYNT.xlsx to BRLJPYNT.xlsx\n"
          ],
          "name": "stdout"
        }
      ]
    },
    {
      "cell_type": "code",
      "metadata": {
        "id": "it1iBrNI9ESq",
        "colab": {
          "resources": {
            "http://localhost:8080/nbextensions/google.colab/files.js": {
              "data": "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",
              "ok": true,
              "headers": [
                [
                  "content-type",
                  "application/javascript"
                ]
              ],
              "status": 200,
              "status_text": "OK"
            }
          },
          "base_uri": "https://localhost:8080/",
          "height": 73
        },
        "outputId": "e97051a0-2b6e-41e3-b9ff-5fdad72c37d3"
      },
      "source": [
        "uploaded = files.upload()\n",
        "data_seknok=pd.read_excel('SEKNOKNT.xlsx')"
      ],
      "execution_count": null,
      "outputs": [
        {
          "output_type": "display_data",
          "data": {
            "text/html": [
              "\n",
              "     <input type=\"file\" id=\"files-94b50138-7a95-4929-b688-78f5910ab2d0\" name=\"files[]\" multiple disabled\n",
              "        style=\"border:none\" />\n",
              "     <output id=\"result-94b50138-7a95-4929-b688-78f5910ab2d0\">\n",
              "      Upload widget is only available when the cell has been executed in the\n",
              "      current browser session. Please rerun this cell to enable.\n",
              "      </output>\n",
              "      <script src=\"/nbextensions/google.colab/files.js\"></script> "
            ],
            "text/plain": [
              "<IPython.core.display.HTML object>"
            ]
          },
          "metadata": {
            "tags": []
          }
        },
        {
          "output_type": "stream",
          "text": [
            "Saving SEKNOKNT.xlsx to SEKNOKNT.xlsx\n"
          ],
          "name": "stdout"
        }
      ]
    },
    {
      "cell_type": "code",
      "metadata": {
        "id": "UFVX0YrNXxm0"
      },
      "source": [
        "data_brljpy = data_brljpy.rename(columns={data_brljpy.columns[0]: 'date'})\n",
        "data_seknok = data_seknok.rename(columns={data_seknok.columns[0]: 'date'})\n",
        "data_brljpy_n10y = data_brljpy.drop('brl_10y_gov',axis=1)\n",
        "data_brjp = data_brljpy_n10y.dropna()\n",
        "data_swnw = data_seknok.dropna()"
      ],
      "execution_count": null,
      "outputs": []
    },
    {
      "cell_type": "code",
      "metadata": {
        "id": "T3R-J2UJ90SU",
        "colab": {
          "base_uri": "https://localhost:8080/"
        },
        "outputId": "3da88bfd-d815-49ee-84c6-ccafae7c4a82"
      },
      "source": [
        "data_brjp['date'] = pd.to_datetime(data_brjp['date'], format='%Y-%m-%d')\n",
        "data_swnw['date'] = pd.to_datetime(data_swnw['date'], format='%Y-%m-%d')\n",
        "data_brjp = data_brjp.set_index('date')\n",
        "data_swnw = data_swnw.set_index('date')"
      ],
      "execution_count": null,
      "outputs": [
        {
          "output_type": "stream",
          "text": [
            "/usr/local/lib/python3.6/dist-packages/ipykernel_launcher.py:1: SettingWithCopyWarning: \n",
            "A value is trying to be set on a copy of a slice from a DataFrame.\n",
            "Try using .loc[row_indexer,col_indexer] = value instead\n",
            "\n",
            "See the caveats in the documentation: https://pandas.pydata.org/pandas-docs/stable/user_guide/indexing.html#returning-a-view-versus-a-copy\n",
            "  \"\"\"Entry point for launching an IPython kernel.\n",
            "/usr/local/lib/python3.6/dist-packages/ipykernel_launcher.py:2: SettingWithCopyWarning: \n",
            "A value is trying to be set on a copy of a slice from a DataFrame.\n",
            "Try using .loc[row_indexer,col_indexer] = value instead\n",
            "\n",
            "See the caveats in the documentation: https://pandas.pydata.org/pandas-docs/stable/user_guide/indexing.html#returning-a-view-versus-a-copy\n",
            "  \n"
          ],
          "name": "stderr"
        }
      ]
    },
    {
      "cell_type": "code",
      "metadata": {
        "id": "fljea5cMY7e3"
      },
      "source": [
        "#data_brjp_rev = data_brjp.reindex(index=data_brjp.index[::-1])\n",
        "data_brjp_rev = data_brjp[::-1]\n",
        "#data_brjp_rev=data_brjp_rev.drop(['CHG_NET_1D','ibovespa_p','ibovespa_vol','brl_ir','jpy_libor','nikkei_p','nikkei_vol'],axis=1)\n",
        "data_swnw_rev = data_swnw[::-1]"
      ],
      "execution_count": null,
      "outputs": []
    },
    {
      "cell_type": "code",
      "metadata": {
        "colab": {
          "base_uri": "https://localhost:8080/",
          "height": 300
        },
        "id": "J0PwAto-5QHy",
        "outputId": "0d3c3fbc-0c9a-457b-c78f-4a08b8d399f1"
      },
      "source": [
        "data_swnw_rev.describe()"
      ],
      "execution_count": null,
      "outputs": [
        {
          "output_type": "execute_result",
          "data": {
            "text/html": [
              "<div>\n",
              "<style scoped>\n",
              "    .dataframe tbody tr th:only-of-type {\n",
              "        vertical-align: middle;\n",
              "    }\n",
              "\n",
              "    .dataframe tbody tr th {\n",
              "        vertical-align: top;\n",
              "    }\n",
              "\n",
              "    .dataframe thead th {\n",
              "        text-align: right;\n",
              "    }\n",
              "</style>\n",
              "<table border=\"1\" class=\"dataframe\">\n",
              "  <thead>\n",
              "    <tr style=\"text-align: right;\">\n",
              "      <th></th>\n",
              "      <th>PX_LAST</th>\n",
              "      <th>PX_BID</th>\n",
              "      <th>PX_ASK</th>\n",
              "      <th>PX_MID</th>\n",
              "      <th>PX_LOW</th>\n",
              "      <th>PX_HIGH</th>\n",
              "      <th>CHG_NET_1D</th>\n",
              "      <th>omx30_p</th>\n",
              "      <th>omx30_vol</th>\n",
              "      <th>sek_ir</th>\n",
              "      <th>oseax_p</th>\n",
              "      <th>oseax_vol</th>\n",
              "      <th>nok_ir</th>\n",
              "    </tr>\n",
              "  </thead>\n",
              "  <tbody>\n",
              "    <tr>\n",
              "      <th>count</th>\n",
              "      <td>4906.000000</td>\n",
              "      <td>4906.000000</td>\n",
              "      <td>4906.000000</td>\n",
              "      <td>4906.000000</td>\n",
              "      <td>4906.000000</td>\n",
              "      <td>4906.000000</td>\n",
              "      <td>4906.000000</td>\n",
              "      <td>4906.000000</td>\n",
              "      <td>4.906000e+03</td>\n",
              "      <td>4906.000000</td>\n",
              "      <td>4906.000000</td>\n",
              "      <td>4.906000e+03</td>\n",
              "      <td>4906.000000</td>\n",
              "    </tr>\n",
              "    <tr>\n",
              "      <th>mean</th>\n",
              "      <td>0.897974</td>\n",
              "      <td>0.896916</td>\n",
              "      <td>0.899039</td>\n",
              "      <td>0.897974</td>\n",
              "      <td>0.894324</td>\n",
              "      <td>0.901626</td>\n",
              "      <td>0.000043</td>\n",
              "      <td>1132.363511</td>\n",
              "      <td>1.528940e+08</td>\n",
              "      <td>1.551097</td>\n",
              "      <td>518.141844</td>\n",
              "      <td>1.812014e+08</td>\n",
              "      <td>2.678443</td>\n",
              "    </tr>\n",
              "    <tr>\n",
              "      <th>std</th>\n",
              "      <td>0.059896</td>\n",
              "      <td>0.059509</td>\n",
              "      <td>0.060301</td>\n",
              "      <td>0.059897</td>\n",
              "      <td>0.059383</td>\n",
              "      <td>0.060602</td>\n",
              "      <td>0.004483</td>\n",
              "      <td>359.883073</td>\n",
              "      <td>1.053268e+08</td>\n",
              "      <td>1.691860</td>\n",
              "      <td>257.592805</td>\n",
              "      <td>1.176773e+08</td>\n",
              "      <td>1.978872</td>\n",
              "    </tr>\n",
              "    <tr>\n",
              "      <th>min</th>\n",
              "      <td>0.763200</td>\n",
              "      <td>0.761900</td>\n",
              "      <td>0.764400</td>\n",
              "      <td>0.763180</td>\n",
              "      <td>0.758600</td>\n",
              "      <td>0.770100</td>\n",
              "      <td>-0.035200</td>\n",
              "      <td>421.010000</td>\n",
              "      <td>1.213361e+07</td>\n",
              "      <td>-0.778000</td>\n",
              "      <td>105.820000</td>\n",
              "      <td>1.522700e+07</td>\n",
              "      <td>0.080000</td>\n",
              "    </tr>\n",
              "    <tr>\n",
              "      <th>25%</th>\n",
              "      <td>0.850725</td>\n",
              "      <td>0.850000</td>\n",
              "      <td>0.851425</td>\n",
              "      <td>0.850728</td>\n",
              "      <td>0.848000</td>\n",
              "      <td>0.853600</td>\n",
              "      <td>-0.002500</td>\n",
              "      <td>851.967500</td>\n",
              "      <td>8.650016e+07</td>\n",
              "      <td>-0.061750</td>\n",
              "      <td>330.565500</td>\n",
              "      <td>1.109851e+08</td>\n",
              "      <td>1.370000</td>\n",
              "    </tr>\n",
              "    <tr>\n",
              "      <th>50%</th>\n",
              "      <td>0.896000</td>\n",
              "      <td>0.895300</td>\n",
              "      <td>0.896850</td>\n",
              "      <td>0.896005</td>\n",
              "      <td>0.892900</td>\n",
              "      <td>0.899300</td>\n",
              "      <td>0.000000</td>\n",
              "      <td>1093.904500</td>\n",
              "      <td>1.171973e+08</td>\n",
              "      <td>1.395000</td>\n",
              "      <td>488.418500</td>\n",
              "      <td>1.588044e+08</td>\n",
              "      <td>1.990000</td>\n",
              "    </tr>\n",
              "    <tr>\n",
              "      <th>75%</th>\n",
              "      <td>0.932250</td>\n",
              "      <td>0.930975</td>\n",
              "      <td>0.933600</td>\n",
              "      <td>0.932252</td>\n",
              "      <td>0.928800</td>\n",
              "      <td>0.936275</td>\n",
              "      <td>0.002300</td>\n",
              "      <td>1453.813500</td>\n",
              "      <td>1.936127e+08</td>\n",
              "      <td>2.842000</td>\n",
              "      <td>675.752500</td>\n",
              "      <td>2.252992e+08</td>\n",
              "      <td>3.140000</td>\n",
              "    </tr>\n",
              "    <tr>\n",
              "      <th>max</th>\n",
              "      <td>1.128600</td>\n",
              "      <td>1.112800</td>\n",
              "      <td>1.156800</td>\n",
              "      <td>1.128620</td>\n",
              "      <td>1.087600</td>\n",
              "      <td>1.169000</td>\n",
              "      <td>0.048600</td>\n",
              "      <td>1926.471000</td>\n",
              "      <td>2.346316e+09</td>\n",
              "      <td>5.440000</td>\n",
              "      <td>1079.150000</td>\n",
              "      <td>2.165845e+09</td>\n",
              "      <td>9.130000</td>\n",
              "    </tr>\n",
              "  </tbody>\n",
              "</table>\n",
              "</div>"
            ],
            "text/plain": [
              "           PX_LAST       PX_BID  ...     oseax_vol       nok_ir\n",
              "count  4906.000000  4906.000000  ...  4.906000e+03  4906.000000\n",
              "mean      0.897974     0.896916  ...  1.812014e+08     2.678443\n",
              "std       0.059896     0.059509  ...  1.176773e+08     1.978872\n",
              "min       0.763200     0.761900  ...  1.522700e+07     0.080000\n",
              "25%       0.850725     0.850000  ...  1.109851e+08     1.370000\n",
              "50%       0.896000     0.895300  ...  1.588044e+08     1.990000\n",
              "75%       0.932250     0.930975  ...  2.252992e+08     3.140000\n",
              "max       1.128600     1.112800  ...  2.165845e+09     9.130000\n",
              "\n",
              "[8 rows x 13 columns]"
            ]
          },
          "metadata": {
            "tags": []
          },
          "execution_count": 18
        }
      ]
    },
    {
      "cell_type": "code",
      "metadata": {
        "id": "xDeFJZ8RbICR",
        "colab": {
          "base_uri": "https://localhost:8080/"
        },
        "outputId": "ed082d8f-388a-48a9-fa08-86f680c85c5b"
      },
      "source": [
        "adf_test_last = adfuller(data_brjp_rev['PX_LAST'])\n",
        "adf_test_bid = adfuller(data_brjp_rev['PX_BID'])\n",
        "adf_test_ask = adfuller(data_brjp_rev['PX_ASK'])\n",
        "adf_test_mid = adfuller(data_brjp_rev['PX_MID'])\n",
        "adf_test_low = adfuller(data_brjp_rev['PX_LOW'])\n",
        "adf_test_high = adfuller(data_brjp_rev['PX_HIGH'])\n",
        "adf_test_pct_change = adfuller(data_brjp_rev['CHG_NET_1D'])\n",
        "adf_test_ibovespa_p = adfuller(data_brjp_rev['ibovespa_p'])\n",
        "adf_test_ibovespa_vol = adfuller(data_brjp_rev['ibovespa_vol'])\n",
        "adf_test_brl_ir = adfuller(data_brjp_rev['brl_ir'])\n",
        "adf_test_jpy_libor = adfuller(data_brjp_rev['jpy_libor'])\n",
        "adf_test_nikkei_p = adfuller(data_brjp_rev['nikkei_p'])\n",
        "adf_test_nikkei_vol = adfuller(data_brjp_rev['nikkei_vol'])\n",
        "\n",
        "print('---------------------------------last')\n",
        "print (\"ADF = \" + str(adf_test_last[0]))\n",
        "print (\"p-value = \" +str(adf_test_last[1]))\n",
        "print('---------------------------------bid')\n",
        "print (\"ADF = \" + str(adf_test_bid[0]))\n",
        "print (\"p-value = \" +str(adf_test_bid[1]))\n",
        "print('---------------------------------ask')\n",
        "print (\"ADF = \" + str(adf_test_ask[0]))\n",
        "print (\"p-value = \" +str(adf_test_ask[1]))\n",
        "print('---------------------------------mid')\n",
        "print (\"ADF = \" + str(adf_test_mid[0]))\n",
        "print (\"p-value = \" +str(adf_test_mid[1]))\n",
        "print('---------------------------------low')\n",
        "print (\"ADF = \" + str(adf_test_low[0]))\n",
        "print (\"p-value = \" +str(adf_test_low[1]))\n",
        "print('--------------------------------high')\n",
        "print (\"ADF = \" + str(adf_test_high[0]))\n",
        "print (\"p-value = \" +str(adf_test_high[1]))\n",
        "print('--------------------------pct_change')\n",
        "print (\"ADF = \" + str(adf_test_pct_change[0]))\n",
        "print (\"p-value = \" +str(adf_test_pct_change[1]))\n",
        "print('--------------------------------ibovespa_p')\n",
        "print (\"ADF = \" + str(adf_test_ibovespa_p[0]))\n",
        "print (\"p-value = \" +str(adf_test_ibovespa_p[1]))\n",
        "print('------------------------------ibovespa_vol')\n",
        "print (\"ADF = \" + str(adf_test_ibovespa_vol[0]))\n",
        "print (\"p-value = \" +str(adf_test_ibovespa_vol[1]))\n",
        "print('----------------------------brl_ir')\n",
        "print (\"ADF = \" + str(adf_test_brl_ir[0]))\n",
        "print (\"p-value = \" +str(adf_test_brl_ir[1]))\n",
        "print('-------------------------------jpy_libor')\n",
        "print (\"ADF = \" + str(adf_test_jpy_libor[0]))\n",
        "print (\"p-value = \" +str(adf_test_jpy_libor[1]))\n",
        "print('-----------------------------nikkei_p')\n",
        "print (\"ADF = \" + str(adf_test_nikkei_p[0]))\n",
        "print (\"p-value = \" +str(adf_test_nikkei_p[1]))\n",
        "print('-----------------------nikkei_vol')\n",
        "print (\"ADF = \" + str(adf_test_nikkei_vol[0]))\n",
        "print (\"p-value = \" +str(adf_test_nikkei_vol[1]))"
      ],
      "execution_count": null,
      "outputs": [
        {
          "output_type": "stream",
          "text": [
            "---------------------------------last\n",
            "ADF = -1.4905043090028556\n",
            "p-value = 0.5382033825339054\n",
            "---------------------------------bid\n",
            "ADF = -1.5197345694851343\n",
            "p-value = 0.5237273252929151\n",
            "---------------------------------ask\n",
            "ADF = -1.5155624153660172\n",
            "p-value = 0.5257992694422563\n",
            "---------------------------------mid\n",
            "ADF = -1.4905027385272682\n",
            "p-value = 0.5382041576416092\n",
            "---------------------------------low\n",
            "ADF = -1.5480473392080976\n",
            "p-value = 0.5096234281660686\n",
            "--------------------------------high\n",
            "ADF = -1.4673821269751346\n",
            "p-value = 0.5495808382075051\n",
            "--------------------------pct_change\n",
            "ADF = -13.73218921156972\n",
            "p-value = 1.1346641938789032e-25\n",
            "--------------------------------ibovespa_p\n",
            "ADF = -0.8404246614945515\n",
            "p-value = 0.8069583657300754\n",
            "------------------------------ibovespa_vol\n",
            "ADF = -1.703116863078066\n",
            "p-value = 0.4295072949928111\n",
            "----------------------------brl_ir\n",
            "ADF = -0.8662571376515154\n",
            "p-value = 0.7988812873039244\n",
            "-------------------------------jpy_libor\n",
            "ADF = -2.230906119870092\n",
            "p-value = 0.19522010832557113\n",
            "-----------------------------nikkei_p\n",
            "ADF = -0.8287216097113823\n",
            "p-value = 0.810539404026632\n",
            "-----------------------nikkei_vol\n",
            "ADF = -3.8006037394122196\n",
            "p-value = 0.0029011439862255683\n"
          ],
          "name": "stdout"
        }
      ]
    },
    {
      "cell_type": "code",
      "metadata": {
        "colab": {
          "base_uri": "https://localhost:8080/"
        },
        "id": "kr2Ncdd6HU33",
        "outputId": "05f1885f-d1c9-4e30-cb9f-933ea3ec97a5"
      },
      "source": [
        "adf_test_last = adfuller(data_swnw_rev['PX_LAST'])\r\n",
        "adf_test_bid = adfuller(data_swnw_rev['PX_BID'])\r\n",
        "adf_test_ask = adfuller(data_swnw_rev['PX_ASK'])\r\n",
        "adf_test_mid = adfuller(data_swnw_rev['PX_MID'])\r\n",
        "adf_test_low = adfuller(data_swnw_rev['PX_LOW'])\r\n",
        "adf_test_high = adfuller(data_swnw_rev['PX_HIGH'])\r\n",
        "adf_test_pct_change = adfuller(data_swnw_rev['CHG_NET_1D'])\r\n",
        "adf_test_omx30_p = adfuller(data_swnw_rev['omx30_p'])\r\n",
        "adf_test_omx30_vol = adfuller(data_swnw_rev['omx30_vol'])\r\n",
        "adf_test_sek_ir = adfuller(data_swnw_rev['sek_ir'])\r\n",
        "adf_test_nok_ir = adfuller(data_swnw_rev['nok_ir'])\r\n",
        "adf_test_oseax_p = adfuller(data_swnw_rev['oseax_p'])\r\n",
        "adf_test_oseax_vol = adfuller(data_swnw_rev['oseax_vol'])\r\n",
        "\r\n",
        "print('---------------------------------last')\r\n",
        "print (\"ADF = \" + str(adf_test_last[0]))\r\n",
        "print (\"p-value = \" +str(adf_test_last[1]))\r\n",
        "print('---------------------------------bid')\r\n",
        "print (\"ADF = \" + str(adf_test_bid[0]))\r\n",
        "print (\"p-value = \" +str(adf_test_bid[1]))\r\n",
        "print('---------------------------------ask')\r\n",
        "print (\"ADF = \" + str(adf_test_ask[0]))\r\n",
        "print (\"p-value = \" +str(adf_test_ask[1]))\r\n",
        "print('---------------------------------mid')\r\n",
        "print (\"ADF = \" + str(adf_test_mid[0]))\r\n",
        "print (\"p-value = \" +str(adf_test_mid[1]))\r\n",
        "print('---------------------------------low')\r\n",
        "print (\"ADF = \" + str(adf_test_low[0]))\r\n",
        "print (\"p-value = \" +str(adf_test_low[1]))\r\n",
        "print('--------------------------------high')\r\n",
        "print (\"ADF = \" + str(adf_test_high[0]))\r\n",
        "print (\"p-value = \" +str(adf_test_high[1]))\r\n",
        "print('--------------------------pct_change')\r\n",
        "print (\"ADF = \" + str(adf_test_pct_change[0]))\r\n",
        "print (\"p-value = \" +str(adf_test_pct_change[1]))\r\n",
        "print('--------------------------------omx30_p')\r\n",
        "print (\"ADF = \" + str(adf_test_omx30_p[0]))\r\n",
        "print (\"p-value = \" +str(adf_test_omx30_p[1]))\r\n",
        "print('------------------------------omx30_vol')\r\n",
        "print (\"ADF = \" + str(adf_test_omx30_vol[0]))\r\n",
        "print (\"p-value = \" +str(adf_test_omx30_vol[1]))\r\n",
        "print('----------------------------sek_ir')\r\n",
        "print (\"ADF = \" + str(adf_test_sek_ir[0]))\r\n",
        "print (\"p-value = \" +str(adf_test_sek_ir[1]))\r\n",
        "print('-------------------------------nok_ir')\r\n",
        "print (\"ADF = \" + str(adf_test_nok_ir[0]))\r\n",
        "print (\"p-value = \" +str(adf_test_nok_ir[1]))\r\n",
        "print('-----------------------------oseax_p')\r\n",
        "print (\"ADF = \" + str(adf_test_oseax_p[0]))\r\n",
        "print (\"p-value = \" +str(adf_test_oseax_p[1]))\r\n",
        "print('-----------------------oseax_vol')\r\n",
        "print (\"ADF = \" + str(adf_test_oseax_vol[0]))\r\n",
        "print (\"p-value = \" +str(adf_test_oseax_vol[1]))"
      ],
      "execution_count": null,
      "outputs": [
        {
          "output_type": "stream",
          "text": [
            "---------------------------------last\n",
            "ADF = -1.500547538792941\n",
            "p-value = 0.5332404619289155\n",
            "---------------------------------bid\n",
            "ADF = -1.7708517749010646\n",
            "p-value = 0.3950259540655053\n",
            "---------------------------------ask\n",
            "ADF = -1.6709280025381101\n",
            "p-value = 0.4461500358998429\n",
            "---------------------------------mid\n",
            "ADF = -1.5009149165155062\n",
            "p-value = 0.533058694334888\n",
            "---------------------------------low\n",
            "ADF = -1.6529835259979886\n",
            "p-value = 0.4554848955149268\n",
            "--------------------------------high\n",
            "ADF = -1.6302614426562365\n",
            "p-value = 0.46735386665261575\n",
            "--------------------------pct_change\n",
            "ADF = -17.2341861982586\n",
            "p-value = 6.1653899543722584e-30\n",
            "--------------------------------omx30_p\n",
            "ADF = -0.5082682561236017\n",
            "p-value = 0.8903928772554877\n",
            "------------------------------omx30_vol\n",
            "ADF = -3.556542511059922\n",
            "p-value = 0.006648303278333081\n",
            "----------------------------sek_ir\n",
            "ADF = -1.6006101421913186\n",
            "p-value = 0.4832869670333611\n",
            "-------------------------------nok_ir\n",
            "ADF = -2.2722293890358367\n",
            "p-value = 0.18108100572613428\n",
            "-----------------------------oseax_p\n",
            "ADF = -0.6501869485746312\n",
            "p-value = 0.8592339374159917\n",
            "-----------------------oseax_vol\n",
            "ADF = -4.428532304064163\n",
            "p-value = 0.0002641581480998616\n"
          ],
          "name": "stdout"
        }
      ]
    },
    {
      "cell_type": "code",
      "metadata": {
        "id": "CA0DmdKuljsu",
        "colab": {
          "base_uri": "https://localhost:8080/"
        },
        "outputId": "45b56cd1-b09f-46b4-830e-8eab8d13681f"
      },
      "source": [
        "diff_brjp = data_brjp_rev.index.values[-1]-data_brjp_rev.index.values[0]\n",
        "days_brjp = diff_brjp.astype('timedelta64[D]')\n",
        "days_brjp = days_brjp/np.timedelta64(1,'D')\n",
        "years_brjp = int(days_brjp/365)\n",
        "\n",
        "diff_swnw = data_swnw_rev.index.values[-1]-data_swnw_rev.index.values[0]\n",
        "days_swnw = diff_swnw.astype('timedelta64[D]')\n",
        "days_swnw = days_swnw/np.timedelta64(1,'D')\n",
        "years_swnw = int(days_swnw/365)\n",
        "\n",
        "print(years_brjp)\n",
        "print(2001+int(0.9*years_brjp))\n",
        "\n",
        "print(years_swnw)\n",
        "print(2002+int(0.9*years_swnw))"
      ],
      "execution_count": null,
      "outputs": [
        {
          "output_type": "stream",
          "text": [
            "19\n",
            "2018\n",
            "19\n",
            "2019\n"
          ],
          "name": "stdout"
        }
      ]
    },
    {
      "cell_type": "code",
      "metadata": {
        "id": "SCqtmirmIqHO"
      },
      "source": [
        "data_brjp_rev['ibovespa_vol'].idxmax()"
      ],
      "execution_count": null,
      "outputs": []
    },
    {
      "cell_type": "code",
      "metadata": {
        "colab": {
          "base_uri": "https://localhost:8080/",
          "height": 287
        },
        "id": "Qor1Q5z4McVc",
        "outputId": "2876284c-4ee4-4cdc-e57f-828abc0730f7"
      },
      "source": [
        "data_brjp_rev['PX_HIGH'].plot()"
      ],
      "execution_count": null,
      "outputs": [
        {
          "output_type": "execute_result",
          "data": {
            "text/plain": [
              "<matplotlib.axes._subplots.AxesSubplot at 0x7f2307d42e10>"
            ]
          },
          "metadata": {
            "tags": []
          },
          "execution_count": 114
        },
        {
          "output_type": "display_data",
          "data": {
            "image/png": "[encoded data removed]",
            "text/plain": [
              "<Figure size 432x288 with 1 Axes>"
            ]
          },
          "metadata": {
            "tags": [],
            "needs_background": "light"
          }
        }
      ]
    },
    {
      "cell_type": "code",
      "metadata": {
        "colab": {
          "base_uri": "https://localhost:8080/",
          "height": 298
        },
        "id": "FqMVHqxYInyu",
        "outputId": "b97b80d2-c022-4280-d4c5-17914688f1b6"
      },
      "source": [
        "data_swnw_rev['oseax_vol'].plot()"
      ],
      "execution_count": null,
      "outputs": [
        {
          "output_type": "execute_result",
          "data": {
            "text/plain": [
              "<matplotlib.axes._subplots.AxesSubplot at 0x7f2307ed15f8>"
            ]
          },
          "metadata": {
            "tags": []
          },
          "execution_count": 40
        },
        {
          "output_type": "display_data",
          "data": {
            "image/png": "[encoded data removed]",
            "text/plain": [
              "<Figure size 432x288 with 1 Axes>"
            ]
          },
          "metadata": {
            "tags": [],
            "needs_background": "light"
          }
        }
      ]
    },
    {
      "cell_type": "code",
      "metadata": {
        "colab": {
          "base_uri": "https://localhost:8080/",
          "height": 455
        },
        "id": "vBNCEqnQdcT7",
        "outputId": "5d9e5e3f-d759-46fd-fb90-c1c0c81fb098"
      },
      "source": [
        "test_brjp"
      ],
      "execution_count": null,
      "outputs": [
        {
          "output_type": "execute_result",
          "data": {
            "text/html": [
              "<div>\n",
              "<style scoped>\n",
              "    .dataframe tbody tr th:only-of-type {\n",
              "        vertical-align: middle;\n",
              "    }\n",
              "\n",
              "    .dataframe tbody tr th {\n",
              "        vertical-align: top;\n",
              "    }\n",
              "\n",
              "    .dataframe thead th {\n",
              "        text-align: right;\n",
              "    }\n",
              "</style>\n",
              "<table border=\"1\" class=\"dataframe\">\n",
              "  <thead>\n",
              "    <tr style=\"text-align: right;\">\n",
              "      <th></th>\n",
              "      <th>PX_LAST</th>\n",
              "      <th>PX_BID</th>\n",
              "      <th>PX_ASK</th>\n",
              "      <th>PX_MID</th>\n",
              "      <th>PX_LOW</th>\n",
              "      <th>PX_HIGH</th>\n",
              "    </tr>\n",
              "    <tr>\n",
              "      <th>date</th>\n",
              "      <th></th>\n",
              "      <th></th>\n",
              "      <th></th>\n",
              "      <th></th>\n",
              "      <th></th>\n",
              "      <th></th>\n",
              "    </tr>\n",
              "  </thead>\n",
              "  <tbody>\n",
              "    <tr>\n",
              "      <th>2018-04-05</th>\n",
              "      <td>32.0950</td>\n",
              "      <td>32.0820</td>\n",
              "      <td>32.1080</td>\n",
              "      <td>32.09500</td>\n",
              "      <td>32.0493</td>\n",
              "      <td>32.4661</td>\n",
              "    </tr>\n",
              "    <tr>\n",
              "      <th>2018-04-06</th>\n",
              "      <td>31.7291</td>\n",
              "      <td>31.7180</td>\n",
              "      <td>31.7403</td>\n",
              "      <td>31.72915</td>\n",
              "      <td>31.6227</td>\n",
              "      <td>32.1580</td>\n",
              "    </tr>\n",
              "    <tr>\n",
              "      <th>2018-04-09</th>\n",
              "      <td>31.2036</td>\n",
              "      <td>31.1941</td>\n",
              "      <td>31.2130</td>\n",
              "      <td>31.20356</td>\n",
              "      <td>31.1540</td>\n",
              "      <td>31.8280</td>\n",
              "    </tr>\n",
              "    <tr>\n",
              "      <th>2018-04-10</th>\n",
              "      <td>31.4328</td>\n",
              "      <td>31.4235</td>\n",
              "      <td>31.4420</td>\n",
              "      <td>31.43277</td>\n",
              "      <td>31.1515</td>\n",
              "      <td>31.5216</td>\n",
              "    </tr>\n",
              "    <tr>\n",
              "      <th>2018-04-11</th>\n",
              "      <td>31.6522</td>\n",
              "      <td>31.6430</td>\n",
              "      <td>31.6613</td>\n",
              "      <td>31.65216</td>\n",
              "      <td>31.2091</td>\n",
              "      <td>31.6894</td>\n",
              "    </tr>\n",
              "    <tr>\n",
              "      <th>...</th>\n",
              "      <td>...</td>\n",
              "      <td>...</td>\n",
              "      <td>...</td>\n",
              "      <td>...</td>\n",
              "      <td>...</td>\n",
              "      <td>...</td>\n",
              "    </tr>\n",
              "    <tr>\n",
              "      <th>2020-11-13</th>\n",
              "      <td>19.1576</td>\n",
              "      <td>19.1439</td>\n",
              "      <td>19.1713</td>\n",
              "      <td>19.15762</td>\n",
              "      <td>18.9394</td>\n",
              "      <td>19.2695</td>\n",
              "    </tr>\n",
              "    <tr>\n",
              "      <th>2020-11-16</th>\n",
              "      <td>19.3055</td>\n",
              "      <td>19.2973</td>\n",
              "      <td>19.3136</td>\n",
              "      <td>19.30545</td>\n",
              "      <td>19.1059</td>\n",
              "      <td>19.5513</td>\n",
              "    </tr>\n",
              "    <tr>\n",
              "      <th>2020-11-17</th>\n",
              "      <td>19.5510</td>\n",
              "      <td>19.5460</td>\n",
              "      <td>19.5560</td>\n",
              "      <td>19.55100</td>\n",
              "      <td>19.1856</td>\n",
              "      <td>19.5738</td>\n",
              "    </tr>\n",
              "    <tr>\n",
              "      <th>2020-11-18</th>\n",
              "      <td>19.3541</td>\n",
              "      <td>19.3480</td>\n",
              "      <td>19.3603</td>\n",
              "      <td>19.35413</td>\n",
              "      <td>19.3396</td>\n",
              "      <td>19.6816</td>\n",
              "    </tr>\n",
              "    <tr>\n",
              "      <th>2020-11-19</th>\n",
              "      <td>19.5534</td>\n",
              "      <td>19.5459</td>\n",
              "      <td>19.5608</td>\n",
              "      <td>19.55335</td>\n",
              "      <td>19.3396</td>\n",
              "      <td>19.6024</td>\n",
              "    </tr>\n",
              "  </tbody>\n",
              "</table>\n",
              "<p>685 rows × 6 columns</p>\n",
              "</div>"
            ],
            "text/plain": [
              "            PX_LAST   PX_BID   PX_ASK    PX_MID   PX_LOW  PX_HIGH\n",
              "date                                                             \n",
              "2018-04-05  32.0950  32.0820  32.1080  32.09500  32.0493  32.4661\n",
              "2018-04-06  31.7291  31.7180  31.7403  31.72915  31.6227  32.1580\n",
              "2018-04-09  31.2036  31.1941  31.2130  31.20356  31.1540  31.8280\n",
              "2018-04-10  31.4328  31.4235  31.4420  31.43277  31.1515  31.5216\n",
              "2018-04-11  31.6522  31.6430  31.6613  31.65216  31.2091  31.6894\n",
              "...             ...      ...      ...       ...      ...      ...\n",
              "2020-11-13  19.1576  19.1439  19.1713  19.15762  18.9394  19.2695\n",
              "2020-11-16  19.3055  19.2973  19.3136  19.30545  19.1059  19.5513\n",
              "2020-11-17  19.5510  19.5460  19.5560  19.55100  19.1856  19.5738\n",
              "2020-11-18  19.3541  19.3480  19.3603  19.35413  19.3396  19.6816\n",
              "2020-11-19  19.5534  19.5459  19.5608  19.55335  19.3396  19.6024\n",
              "\n",
              "[685 rows x 6 columns]"
            ]
          },
          "metadata": {
            "tags": []
          },
          "execution_count": 166
        }
      ]
    },
    {
      "cell_type": "code",
      "metadata": {
        "id": "quwCZXcQm_LS"
      },
      "source": [
        "split_date_train_brjp = pd.Timestamp('2018-04-04')\n",
        "split_date_test_brjp = pd.Timestamp('2018-04-05')\n",
        "train_brjp = data_brjp_rev.loc[:split_date_train_brjp]\n",
        "test_brjp = data_brjp_rev.loc[split_date_test_brjp:]\n",
        "\n",
        "split_date_train_swnw = pd.Timestamp('2018-11-20')\n",
        "split_date_test_swnw = pd.Timestamp('2018-11-21')\n",
        "train_swnw = data_swnw_rev.loc[:split_date_train_swnw]\n",
        "test_swnw = data_swnw_rev.loc[split_date_test_swnw:]"
      ],
      "execution_count": null,
      "outputs": []
    },
    {
      "cell_type": "code",
      "metadata": {
        "id": "F_HGhDFSm_n3"
      },
      "source": [
        "x_train_brjp = train_brjp[train_brjp.columns[1:]]\n",
        "y_train_brjp = train_brjp['PX_LAST']\n",
        "x_test_brjp = test_brjp[test_brjp.columns[1:]]\n",
        "y_test_brjp = test_brjp['PX_LAST']\n",
        "\n",
        "x_train_swnw = train_swnw[train_swnw.columns[1:]]\n",
        "y_train_swnw = train_swnw['PX_LAST']\n",
        "x_test_swnw = test_swnw[test_swnw.columns[1:]]\n",
        "y_test_swnw = test_swnw['PX_LAST']"
      ],
      "execution_count": null,
      "outputs": []
    },
    {
      "cell_type": "code",
      "metadata": {
        "id": "-cQ7omxaE7V0"
      },
      "source": [
        "transformer_x_brjp = MinMaxScaler().fit(x_train_brjp)\n",
        "transformer_y_brjp = MinMaxScaler().fit(y_train_brjp.values.reshape(-1,1)) \n",
        "x_rtrain_brjp = transformer_x_brjp.transform(x_train_brjp)\n",
        "y_rtrain_brjp = transformer_y_brjp.transform(y_train_brjp.values.reshape(-1,1))\n",
        "x_rtest_brjp = transformer_x_brjp.transform(x_test_brjp)\n",
        "y_rtest_brjp = transformer_y_brjp.transform(y_test_brjp.values.reshape(-1,1))\n",
        "\n",
        "transformer_x_swnw = QuantileTransformer().fit(x_train_swnw)\n",
        "transformer_y_swnw = QuantileTransformer().fit(y_train_swnw.values.reshape(-1,1)) \n",
        "x_rtrain_swnw = transformer_x_swnw.transform(x_train_swnw)\n",
        "y_rtrain_swnw = transformer_y_swnw.transform(y_train_swnw.values.reshape(-1,1))\n",
        "x_rtest_swnw = transformer_x_swnw.transform(x_test_swnw)\n",
        "y_rtest_swnw = transformer_y_swnw.transform(y_test_swnw.values.reshape(-1,1))"
      ],
      "execution_count": null,
      "outputs": []
    },
    {
      "cell_type": "code",
      "metadata": {
        "colab": {
          "base_uri": "https://localhost:8080/"
        },
        "id": "1hdD9UXXRFic",
        "outputId": "522277c2-9165-4d03-d3bb-9c3d3b2368f4"
      },
      "source": [
        "y_rtest_brjp.shape"
      ],
      "execution_count": null,
      "outputs": [
        {
          "output_type": "execute_result",
          "data": {
            "text/plain": [
              "(685, 1)"
            ]
          },
          "metadata": {
            "tags": []
          },
          "execution_count": 207
        }
      ]
    },
    {
      "cell_type": "code",
      "metadata": {
        "id": "dfLP7HVmnAR5"
      },
      "source": [
        "x_tr_t_brjp = x_rtrain_brjp.reshape(x_rtrain_brjp.shape[0], 1, x_rtrain_brjp.shape[1])\n",
        "x_tst_t_brjp = x_rtest_brjp.reshape(x_rtest_brjp.shape[0], 1, x_rtest_brjp.shape[1])\n",
        "\n",
        "x_tr_t_swnw = x_rtrain_swnw.reshape(x_rtrain_swnw.shape[0], 1, x_rtrain_swnw.shape[1])\n",
        "x_tst_t_swnw = x_rtest_swnw.reshape(x_rtest_swnw.shape[0], 1, x_rtest_swnw.shape[1])"
      ],
      "execution_count": null,
      "outputs": []
    },
    {
      "cell_type": "code",
      "metadata": {
        "id": "O-zmyubP_fgO",
        "colab": {
          "base_uri": "https://localhost:8080/"
        },
        "outputId": "b88d9889-bf60-4135-9836-5cd44b67260e"
      },
      "source": [
        "from keras.layers import LSTM\n",
        "keras.backend.clear_session()\n",
        "tf.random.set_seed(51)\n",
        "np.random.seed(51)\n",
        "model= Sequential()\n",
        "model.add(LSTM(128,activation='relu', return_sequences=False, input_shape=(10, x_rtrain_brjp.shape[1])))\n",
        "#model.add(Dropout(0.2))\n",
        "#model.add(LSTM(128, activation='relu', return_sequences=True))\n",
        "#model.add(Dropout(0.2))\n",
        "#model.add(LSTM(64, activation='relu',return_sequences=True))\n",
        "#model.add(Dropout(0.2))\n",
        "#model.add(LSTM(32, activation='relu'))\n",
        "model.add(Dense(1))\n",
        "#model.compile(optimizer='adam', loss='rmse')\n",
        "model.summary()"
      ],
      "execution_count": null,
      "outputs": [
        {
          "output_type": "stream",
          "text": [
            "WARNING:tensorflow:Layer lstm will not use cuDNN kernel since it doesn't meet the cuDNN kernel criteria. It will use generic GPU kernel as fallback when running on GPU\n",
            "Model: \"sequential\"\n",
            "_________________________________________________________________\n",
            "Layer (type)                 Output Shape              Param #   \n",
            "=================================================================\n",
            "lstm (LSTM)                  (None, 128)               72192     \n",
            "_________________________________________________________________\n",
            "dense (Dense)                (None, 1)                 129       \n",
            "=================================================================\n",
            "Total params: 72,321\n",
            "Trainable params: 72,321\n",
            "Non-trainable params: 0\n",
            "_________________________________________________________________\n"
          ],
          "name": "stdout"
        }
      ]
    },
    {
      "cell_type": "code",
      "metadata": {
        "id": "WzTSezIz7tVM",
        "colab": {
          "base_uri": "https://localhost:8080/"
        },
        "outputId": "39283769-ed5e-48bc-e519-67872ea0a7b7"
      },
      "source": [
        "lr_schedule = tf.keras.optimizers.schedules.ExponentialDecay(\n",
        "    initial_learning_rate=1e-3,\n",
        "    decay_steps=100000,\n",
        "    decay_rate=0.9,\n",
        "    staircase=True)\n",
        "opt = keras.optimizers.Adam(learning_rate=lr_schedule)\n",
        "model.compile(loss=tf.keras.metrics.mean_squared_error,\n",
        "              metrics=[tf.keras.metrics.RootMeanSquaredError(name='rmse')], optimizer=opt)\n",
        "early_stop = [EarlyStopping(monitor='val_loss', patience=5, verbose=1),\n",
        "             ModelCheckpoint(filepath='best_model1.h5', monitor='val_loss', save_best_only=True)]\n",
        "#sch=LearningRateScheduler(lr_schedule)\n",
        "history_model_lstm = model.fit(x_tr_t_brjp, y_rtrain_brjp, epochs=100, batch_size=32,verbose=1, validation_split=0.1, shuffle=False, callbacks=[early_stop])"
      ],
      "execution_count": null,
      "outputs": [
        {
          "output_type": "stream",
          "text": [
            "Epoch 1/100\n",
            "WARNING:tensorflow:Model was constructed with shape (None, 10, 12) for input Tensor(\"lstm_input:0\", shape=(None, 10, 12), dtype=float32), but it was called on an input with incompatible shape (None, 1, 12).\n",
            "WARNING:tensorflow:Model was constructed with shape (None, 10, 12) for input Tensor(\"lstm_input:0\", shape=(None, 10, 12), dtype=float32), but it was called on an input with incompatible shape (None, 1, 12).\n",
            "122/125 [============================>.] - ETA: 0s - loss: 8.0907e-05 - rmse: 0.0090WARNING:tensorflow:Model was constructed with shape (None, 10, 12) for input Tensor(\"lstm_input:0\", shape=(None, 10, 12), dtype=float32), but it was called on an input with incompatible shape (None, 1, 12).\n",
            "125/125 [==============================] - 1s 6ms/step - loss: 8.0209e-05 - rmse: 0.0090 - val_loss: 2.1533e-05 - val_rmse: 0.0046\n",
            "Epoch 2/100\n",
            "125/125 [==============================] - 1s 5ms/step - loss: 5.9098e-05 - rmse: 0.0077 - val_loss: 4.2515e-05 - val_rmse: 0.0065\n",
            "Epoch 3/100\n",
            "125/125 [==============================] - 1s 5ms/step - loss: 4.6317e-05 - rmse: 0.0068 - val_loss: 1.1258e-04 - val_rmse: 0.0106\n",
            "Epoch 4/100\n",
            "125/125 [==============================] - 1s 5ms/step - loss: 4.0863e-05 - rmse: 0.0064 - val_loss: 1.9833e-04 - val_rmse: 0.0141\n",
            "Epoch 5/100\n",
            "125/125 [==============================] - 1s 5ms/step - loss: 5.3152e-05 - rmse: 0.0073 - val_loss: 2.1198e-04 - val_rmse: 0.0146\n",
            "Epoch 6/100\n",
            "125/125 [==============================] - 1s 5ms/step - loss: 8.1032e-05 - rmse: 0.0090 - val_loss: 1.0242e-04 - val_rmse: 0.0101\n",
            "Epoch 00006: early stopping\n"
          ],
          "name": "stdout"
        }
      ]
    },
    {
      "cell_type": "code",
      "metadata": {
        "id": "I6KnSc_fH9Is",
        "colab": {
          "base_uri": "https://localhost:8080/"
        },
        "outputId": "bf520145-7f02-4a23-97ff-0bff782e29a0"
      },
      "source": [
        "y_rtest_brjp_hat = model.predict(x_tst_t_brjp, verbose=0)"
      ],
      "execution_count": null,
      "outputs": [
        {
          "output_type": "stream",
          "text": [
            "WARNING:tensorflow:Model was constructed with shape (None, 10, 12) for input Tensor(\"lstm_input:0\", shape=(None, 10, 12), dtype=float32), but it was called on an input with incompatible shape (None, 1, 12).\n"
          ],
          "name": "stdout"
        }
      ]
    },
    {
      "cell_type": "code",
      "metadata": {
        "id": "3Lk5dy6HH9lv",
        "colab": {
          "base_uri": "https://localhost:8080/"
        },
        "outputId": "f4a88925-1931-4acc-e84d-3ca15b58fb06"
      },
      "source": [
        "mean_squared_error(y_rtest_brjp, y_rtest_brjp_hat, squared=False)"
      ],
      "execution_count": null,
      "outputs": [
        {
          "output_type": "execute_result",
          "data": {
            "text/plain": [
              "0.021173071804365038"
            ]
          },
          "metadata": {
            "tags": []
          },
          "execution_count": 184
        }
      ]
    },
    {
      "cell_type": "code",
      "metadata": {
        "id": "OYvlT3VZvnt0",
        "colab": {
          "base_uri": "https://localhost:8080/",
          "height": 265
        },
        "outputId": "bcf47460-e644-4e20-f083-c61c22a9da41"
      },
      "source": [
        "plt.plot(y_test_brjp)\n",
        "plt.show()"
      ],
      "execution_count": null,
      "outputs": [
        {
          "output_type": "display_data",
          "data": {
            "image/png": "[encoded data removed]",
            "text/plain": [
              "<Figure size 432x288 with 1 Axes>"
            ]
          },
          "metadata": {
            "tags": [],
            "needs_background": "light"
          }
        }
      ]
    },
    {
      "cell_type": "code",
      "metadata": {
        "id": "ur2CfyntvoKg",
        "colab": {
          "base_uri": "https://localhost:8080/",
          "height": 265
        },
        "outputId": "5717196e-bb7b-4a7a-9b61-3e970798661f"
      },
      "source": [
        "plt.plot(y_rtest_brjp_hat)\n",
        "plt.show()"
      ],
      "execution_count": null,
      "outputs": [
        {
          "output_type": "display_data",
          "data": {
            "image/png": "[encoded data removed]",
            "text/plain": [
              "<Figure size 432x288 with 1 Axes>"
            ]
          },
          "metadata": {
            "tags": [],
            "needs_background": "light"
          }
        }
      ]
    },
    {
      "cell_type": "code",
      "metadata": {
        "id": "9Ge09G7MvokL"
      },
      "source": [
        "y_test_brjp_hat=transformer_y_brjp.inverse_transform(y_rtest_brjp_hat)\n",
        "y_test_brjp_hat_s=y_test_brjp_hat.flatten()"
      ],
      "execution_count": null,
      "outputs": []
    },
    {
      "cell_type": "code",
      "metadata": {
        "id": "yvERJYAu14r-",
        "colab": {
          "base_uri": "https://localhost:8080/",
          "height": 265
        },
        "outputId": "8fb27e04-392d-4702-e171-d3a9890dd520"
      },
      "source": [
        "plt.plot(y_test_brjp_hat_s)\n",
        "plt.show()"
      ],
      "execution_count": null,
      "outputs": [
        {
          "output_type": "display_data",
          "data": {
            "image/png": "[encoded data removed]",
            "text/plain": [
              "<Figure size 432x288 with 1 Axes>"
            ]
          },
          "metadata": {
            "tags": [],
            "needs_background": "light"
          }
        }
      ]
    },
    {
      "cell_type": "code",
      "metadata": {
        "id": "T-71v115vo_c"
      },
      "source": [
        "df_for_comparison_brjp = pd.DataFrame({'actual':y_test_brjp, 'forecast':y_test_brjp_hat_s})"
      ],
      "execution_count": null,
      "outputs": []
    },
    {
      "cell_type": "code",
      "metadata": {
        "id": "6lFwmhDNRVJS",
        "colab": {
          "base_uri": "https://localhost:8080/",
          "height": 406
        },
        "outputId": "0192d434-3878-4413-b494-31cd5983486d"
      },
      "source": [
        "fig_dims = (6, 6)\n",
        "fig, ax = plt.subplots(figsize=fig_dims)\n",
        "sns.lineplot(data=df_for_comparison_brjp,ax=ax)"
      ],
      "execution_count": null,
      "outputs": [
        {
          "output_type": "execute_result",
          "data": {
            "text/plain": [
              "<matplotlib.axes._subplots.AxesSubplot at 0x7f538fef6470>"
            ]
          },
          "metadata": {
            "tags": []
          },
          "execution_count": 189
        },
        {
          "output_type": "display_data",
          "data": {
            "image/png": "[encoded data removed]",
            "text/plain": [
              "<Figure size 432x432 with 1 Axes>"
            ]
          },
          "metadata": {
            "tags": [],
            "needs_background": "light"
          }
        }
      ]
    },
    {
      "cell_type": "code",
      "metadata": {
        "id": "xToSfU9Rebfs",
        "colab": {
          "base_uri": "https://localhost:8080/",
          "height": 287
        },
        "outputId": "6e45a9ed-2d00-4a58-c314-e095b0343ea0"
      },
      "source": [
        "plt.semilogx(history_model_lstm.history[\"loss\"])\n",
        "plt.semilogx(history_model_lstm.history['val_loss'])\n",
        "#plt.axis([1e-8, 1e-4, 0, 60])"
      ],
      "execution_count": null,
      "outputs": [
        {
          "output_type": "execute_result",
          "data": {
            "text/plain": [
              "[<matplotlib.lines.Line2D at 0x7f22996b79b0>]"
            ]
          },
          "metadata": {
            "tags": []
          },
          "execution_count": 355
        },
        {
          "output_type": "display_data",
          "data": {
            "image/png": "[encoded data removed]",
            "text/plain": [
              "<Figure size 432x288 with 1 Axes>"
            ]
          },
          "metadata": {
            "tags": [],
            "needs_background": "light"
          }
        }
      ]
    },
    {
      "cell_type": "markdown",
      "metadata": {
        "id": "cUiVOgvJrTOS"
      },
      "source": [
        "**SEKNOK LSTM**"
      ]
    },
    {
      "cell_type": "code",
      "metadata": {
        "colab": {
          "base_uri": "https://localhost:8080/"
        },
        "id": "iKrC3uT7ozKk",
        "outputId": "db0d173b-f58a-4a8b-ec36-fecd74a485fc"
      },
      "source": [
        "from keras.layers import LSTM\n",
        "keras.backend.clear_session()\n",
        "tf.random.set_seed(51)\n",
        "np.random.seed(51)\n",
        "model= Sequential()\n",
        "model.add(LSTM(256, activation='relu', return_sequences=False, input_shape=(10, x_rtrain_swnw.shape[1])))\n",
        "#model.add(Dropout(0.2))\n",
        "#model.add(LSTM(128, activation='relu', return_sequences=True))\n",
        "#model.add(Dropout(0.2))\n",
        "#model.add(LSTM(64, activation='relu',return_sequences=True))\n",
        "#model.add(Dropout(0.2))\n",
        "#model.add(LSTM(32, activation='relu'))\n",
        "model.add(Dense(1))\n",
        "#model.compile(optimizer='adam', loss='rmse')\n",
        "model.summary()"
      ],
      "execution_count": null,
      "outputs": [
        {
          "output_type": "stream",
          "text": [
            "WARNING:tensorflow:Layer lstm will not use cuDNN kernel since it doesn't meet the cuDNN kernel criteria. It will use generic GPU kernel as fallback when running on GPU\n",
            "Model: \"sequential\"\n",
            "_________________________________________________________________\n",
            "Layer (type)                 Output Shape              Param #   \n",
            "=================================================================\n",
            "lstm (LSTM)                  (None, 256)               275456    \n",
            "_________________________________________________________________\n",
            "dense (Dense)                (None, 1)                 257       \n",
            "=================================================================\n",
            "Total params: 275,713\n",
            "Trainable params: 275,713\n",
            "Non-trainable params: 0\n",
            "_________________________________________________________________\n"
          ],
          "name": "stdout"
        }
      ]
    },
    {
      "cell_type": "code",
      "metadata": {
        "colab": {
          "base_uri": "https://localhost:8080/"
        },
        "id": "bBQlHucbo3i9",
        "outputId": "916fd6fd-f6c4-4ad3-8f28-47830183fdb7"
      },
      "source": [
        "lr_schedule = tf.keras.optimizers.schedules.ExponentialDecay(\n",
        "    initial_learning_rate=1e-2,\n",
        "    decay_steps=100000,\n",
        "    decay_rate=0.9,\n",
        "    staircase=True)\n",
        "opt = keras.optimizers.Adam(learning_rate=lr_schedule)\n",
        "model.compile(loss=tf.keras.metrics.mean_squared_error,\n",
        "              metrics=[tf.keras.metrics.RootMeanSquaredError(name='rmse')], optimizer=opt)\n",
        "early_stop = [EarlyStopping(monitor='val_loss', patience=5, verbose=1),\n",
        "             ModelCheckpoint(filepath='best_model.h5', monitor='val_loss', save_best_only=True)]\n",
        "#sch=LearningRateScheduler(lr_schedule)\n",
        "history_model_lstm = model.fit(x_tr_t_swnw, y_rtrain_swnw, epochs=100, batch_size=10, verbose=1, validation_split=0.1, shuffle=False, callbacks=[early_stop])"
      ],
      "execution_count": null,
      "outputs": [
        {
          "output_type": "stream",
          "text": [
            "Epoch 1/100\n",
            "WARNING:tensorflow:Model was constructed with shape (None, 10, 12) for input Tensor(\"lstm_input:0\", shape=(None, 10, 12), dtype=float32), but it was called on an input with incompatible shape (None, 1, 12).\n",
            "WARNING:tensorflow:Model was constructed with shape (None, 10, 12) for input Tensor(\"lstm_input:0\", shape=(None, 10, 12), dtype=float32), but it was called on an input with incompatible shape (None, 1, 12).\n",
            "394/395 [============================>.] - ETA: 0s - loss: 0.0068 - rmse: 0.0824WARNING:tensorflow:Model was constructed with shape (None, 10, 12) for input Tensor(\"lstm_input:0\", shape=(None, 10, 12), dtype=float32), but it was called on an input with incompatible shape (None, 1, 12).\n",
            "395/395 [==============================] - 2s 5ms/step - loss: 0.0068 - rmse: 0.0823 - val_loss: 2.1394e-05 - val_rmse: 0.0046\n",
            "Epoch 2/100\n",
            "395/395 [==============================] - 2s 4ms/step - loss: 0.0049 - rmse: 0.0701 - val_loss: 3.0973e-04 - val_rmse: 0.0176\n",
            "Epoch 3/100\n",
            "395/395 [==============================] - 2s 4ms/step - loss: 0.0013 - rmse: 0.0367 - val_loss: 1.4591e-04 - val_rmse: 0.0121\n",
            "Epoch 4/100\n",
            "395/395 [==============================] - 2s 4ms/step - loss: 9.0420e-04 - rmse: 0.0301 - val_loss: 1.2732e-04 - val_rmse: 0.0113\n",
            "Epoch 5/100\n",
            "395/395 [==============================] - 2s 4ms/step - loss: 6.5828e-04 - rmse: 0.0257 - val_loss: 6.8925e-05 - val_rmse: 0.0083\n",
            "Epoch 6/100\n",
            "395/395 [==============================] - 2s 4ms/step - loss: 4.7527e-04 - rmse: 0.0218 - val_loss: 3.1709e-05 - val_rmse: 0.0056\n",
            "Epoch 00006: early stopping\n"
          ],
          "name": "stdout"
        }
      ]
    },
    {
      "cell_type": "code",
      "metadata": {
        "id": "niEYMrv8ozhB"
      },
      "source": [
        "y_rtest_swnw_hat = model.predict(x_tst_t_swnw, verbose=0)"
      ],
      "execution_count": null,
      "outputs": []
    },
    {
      "cell_type": "code",
      "metadata": {
        "colab": {
          "base_uri": "https://localhost:8080/"
        },
        "id": "Scy5-NXyo0BO",
        "outputId": "c5aa53fd-c590-4b77-b9d6-01f9c1fa12f6"
      },
      "source": [
        "mean_squared_error(y_rtest_swnw, y_rtest_swnw_hat, squared=False)"
      ],
      "execution_count": null,
      "outputs": [
        {
          "output_type": "execute_result",
          "data": {
            "text/plain": [
              "0.005716168655072442"
            ]
          },
          "metadata": {
            "tags": []
          },
          "execution_count": 186
        }
      ]
    },
    {
      "cell_type": "code",
      "metadata": {
        "colab": {
          "base_uri": "https://localhost:8080/",
          "height": 265
        },
        "id": "cdaeMh38o0bx",
        "outputId": "a358329c-ab22-4839-a210-cd5a9d905519"
      },
      "source": [
        "plt.plot(y_rtest_swnw)\n",
        "plt.show()"
      ],
      "execution_count": null,
      "outputs": [
        {
          "output_type": "display_data",
          "data": {
            "image/png": "[encoded data removed]",
            "text/plain": [
              "<Figure size 432x288 with 1 Axes>"
            ]
          },
          "metadata": {
            "tags": [],
            "needs_background": "light"
          }
        }
      ]
    },
    {
      "cell_type": "code",
      "metadata": {
        "colab": {
          "base_uri": "https://localhost:8080/",
          "height": 265
        },
        "id": "-9TBtDVFo1Dq",
        "outputId": "2b06cad3-76bf-48c6-805c-93511c53726f"
      },
      "source": [
        "plt.plot(y_rtest_swnw_hat)\n",
        "plt.show()"
      ],
      "execution_count": null,
      "outputs": [
        {
          "output_type": "display_data",
          "data": {
            "image/png": "[encoded data removed]",
            "text/plain": [
              "<Figure size 432x288 with 1 Axes>"
            ]
          },
          "metadata": {
            "tags": [],
            "needs_background": "light"
          }
        }
      ]
    },
    {
      "cell_type": "code",
      "metadata": {
        "id": "tQa6umvLp7IS"
      },
      "source": [
        "y_test_swnw_hat=transformer_y_swnw.inverse_transform(y_rtest_swnw_hat)\n",
        "y_test_swnw_hat_s=y_test_swnw_hat.flatten()"
      ],
      "execution_count": null,
      "outputs": []
    },
    {
      "cell_type": "code",
      "metadata": {
        "colab": {
          "base_uri": "https://localhost:8080/",
          "height": 265
        },
        "id": "2A1K8vLJp__s",
        "outputId": "de15e246-05e4-46b2-c3db-03dd9a8562fa"
      },
      "source": [
        "plt.plot(y_test_swnw_hat_s)\n",
        "plt.show()"
      ],
      "execution_count": null,
      "outputs": [
        {
          "output_type": "display_data",
          "data": {
            "image/png": "[encoded data removed]",
            "text/plain": [
              "<Figure size 432x288 with 1 Axes>"
            ]
          },
          "metadata": {
            "tags": [],
            "needs_background": "light"
          }
        }
      ]
    },
    {
      "cell_type": "code",
      "metadata": {
        "id": "cDMOQ2Nsp7qM"
      },
      "source": [
        "df_for_comparison_swnw = pd.DataFrame({'actual':y_test_swnw, 'forecast':y_test_swnw_hat_s})"
      ],
      "execution_count": null,
      "outputs": []
    },
    {
      "cell_type": "code",
      "metadata": {
        "colab": {
          "base_uri": "https://localhost:8080/",
          "height": 406
        },
        "id": "xqD4uMsKrLBD",
        "outputId": "4095d1da-a011-4015-9e1f-ad9ea3d836bd"
      },
      "source": [
        "fig_dims = (6, 6)\n",
        "fig, ax = plt.subplots(figsize=fig_dims)\n",
        "sns.lineplot(data=df_for_comparison_swnw,ax=ax)"
      ],
      "execution_count": null,
      "outputs": [
        {
          "output_type": "execute_result",
          "data": {
            "text/plain": [
              "<matplotlib.axes._subplots.AxesSubplot at 0x7f72a00aeac8>"
            ]
          },
          "metadata": {
            "tags": []
          },
          "execution_count": 192
        },
        {
          "output_type": "display_data",
          "data": {
            "image/png": "[encoded data removed]",
            "text/plain": [
              "<Figure size 432x432 with 1 Axes>"
            ]
          },
          "metadata": {
            "tags": [],
            "needs_background": "light"
          }
        }
      ]
    },
    {
      "cell_type": "code",
      "metadata": {
        "colab": {
          "base_uri": "https://localhost:8080/",
          "height": 288
        },
        "id": "F9_QHo8trRSV",
        "outputId": "54e5a185-cf8a-4cdb-eca6-f4522b377751"
      },
      "source": [
        "plt.semilogx(history_model_lstm.history[\"loss\"])\n",
        "plt.semilogx(history_model_lstm.history['val_loss'])\n",
        "#plt.axis([1e-8, 1e-4, 0, 60])"
      ],
      "execution_count": null,
      "outputs": [
        {
          "output_type": "execute_result",
          "data": {
            "text/plain": [
              "[<matplotlib.lines.Line2D at 0x7f72be68f128>]"
            ]
          },
          "metadata": {
            "tags": []
          },
          "execution_count": 159
        },
        {
          "output_type": "display_data",
          "data": {
            "image/png": "[encoded data removed]",
            "text/plain": [
              "<Figure size 432x288 with 1 Axes>"
            ]
          },
          "metadata": {
            "tags": [],
            "needs_background": "light"
          }
        }
      ]
    },
    {
      "cell_type": "code",
      "metadata": {
        "id": "7LHMd36JnyPI"
      },
      "source": [
        "model.save(\"best_model1.h5\") "
      ],
      "execution_count": null,
      "outputs": []
    },
    {
      "cell_type": "code",
      "metadata": {
        "colab": {
          "base_uri": "https://localhost:8080/"
        },
        "id": "aG9KIVO4sk34",
        "outputId": "57db88b7-fcd2-4b2a-b440-3fd7a1b4ace4"
      },
      "source": [
        "!mkdir -p saved_model\n",
        "model.save('saved_model/my_model') "
      ],
      "execution_count": null,
      "outputs": [
        {
          "output_type": "stream",
          "text": [
            "WARNING:tensorflow:From /usr/local/lib/python3.6/dist-packages/tensorflow/python/training/tracking/tracking.py:111: Model.state_updates (from tensorflow.python.keras.engine.training) is deprecated and will be removed in a future version.\n",
            "Instructions for updating:\n",
            "This property should not be used in TensorFlow 2.0, as updates are applied automatically.\n",
            "WARNING:tensorflow:From /usr/local/lib/python3.6/dist-packages/tensorflow/python/training/tracking/tracking.py:111: Layer.updates (from tensorflow.python.keras.engine.base_layer) is deprecated and will be removed in a future version.\n",
            "Instructions for updating:\n",
            "This property should not be used in TensorFlow 2.0, as updates are applied automatically.\n",
            "INFO:tensorflow:Assets written to: saved_model/my_model/assets\n"
          ],
          "name": "stdout"
        }
      ]
    },
    {
      "cell_type": "code",
      "metadata": {
        "colab": {
          "base_uri": "https://localhost:8080/"
        },
        "id": "ZxYs0XmEufn1",
        "outputId": "dec2f546-b3b8-401a-db31-6e8111a51391"
      },
      "source": [
        "!ls saved_model/my_model"
      ],
      "execution_count": null,
      "outputs": [
        {
          "output_type": "stream",
          "text": [
            "assets\tsaved_model.pb\tvariables\n"
          ],
          "name": "stdout"
        }
      ]
    },
    {
      "cell_type": "code",
      "metadata": {
        "colab": {
          "base_uri": "https://localhost:8080/"
        },
        "id": "BGQz8R8zvHU0",
        "outputId": "426354da-fa48-4340-9030-1a7f6b0da356"
      },
      "source": [
        "new_model = tf.keras.models.load_model('saved_model/my_model')\n",
        "\n",
        "# Check its architecture\n",
        "new_model.summary()"
      ],
      "execution_count": null,
      "outputs": [
        {
          "output_type": "stream",
          "text": [
            "WARNING:tensorflow:Layer lstm will not use cuDNN kernel since it doesn't meet the cuDNN kernel criteria. It will use generic GPU kernel as fallback when running on GPU\n",
            "Model: \"sequential\"\n",
            "_________________________________________________________________\n",
            "Layer (type)                 Output Shape              Param #   \n",
            "=================================================================\n",
            "lstm (LSTM)                  (None, 128)               72192     \n",
            "_________________________________________________________________\n",
            "dense (Dense)                (None, 1)                 129       \n",
            "=================================================================\n",
            "Total params: 72,321\n",
            "Trainable params: 72,321\n",
            "Non-trainable params: 0\n",
            "_________________________________________________________________\n"
          ],
          "name": "stdout"
        }
      ]
    }
  ]
}